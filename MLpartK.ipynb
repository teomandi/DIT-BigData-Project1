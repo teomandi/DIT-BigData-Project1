{
 "cells": [
  {
   "cell_type": "code",
   "execution_count": 17,
   "metadata": {
    "collapsed": true,
    "pycharm": {
     "is_executing": false
    }
   },
   "outputs": [],
   "source": [
    "import numpy as np\n",
    "import pandas as pd\n",
    "import time\n",
    "import re\n",
    "\n",
    "from sklearn.feature_extraction.text import CountVectorizer\n",
    "from sklearn.feature_extraction.text import TfidfVectorizer\n",
    "\n",
    "from sklearn.ensemble import RandomForestClassifier\n",
    "\n",
    "\n",
    "import nltk\n",
    "from nltk.stem import LancasterStemmer\n",
    "from nltk.stem.porter import PorterStemmer"
   ]
  },
  {
   "cell_type": "code",
   "execution_count": 18,
   "outputs": [],
   "source": [
    "from sklearn import metrics\n",
    "from sklearn.model_selection import StratifiedKFold, train_test_split\n",
    "\n",
    "def evaluation(clf, clf_name, train, y):\n",
    "    x_train, x_test, y_train, y_test = train_test_split(train, y, test_size=.33)\n",
    "    clf.fit(x_train, y_train)\n",
    "    \n",
    "    starting_tm = time.time()\n",
    "    y_pred = clf.predict(x_test)\n",
    "    \n",
    "    print(\"Classifier: \", clf_name)\n",
    "    print(\"Accuracy: \", metrics.accuracy_score(y_test, y_pred))\n",
    "    print(\"Precision: \", metrics.precision_score(y_test, y_pred))\n",
    "    print(\"Recall: \", metrics.recall_score(y_test, y_pred))\n",
    "    print(\"F1-Measure: \", metrics.f1_score(y_test, y_pred))\n",
    "    print(\"Execution time: \" + str(time.time() - starting_tm))"
   ],
   "metadata": {
    "collapsed": false,
    "pycharm": {
     "name": "#%%\n",
     "is_executing": false
    }
   }
  },
  {
   "cell_type": "code",
   "execution_count": 2,
   "outputs": [],
   "source": [
    "jobs_df = pd.read_csv(\"fake_job_postings.csv\")\n",
    "jobs_df = jobs_df.fillna('')"
   ],
   "metadata": {
    "collapsed": false,
    "pycharm": {
     "name": "#%%\n",
     "is_executing": false
    }
   }
  },
  {
   "cell_type": "code",
   "execution_count": 22,
   "outputs": [
    {
     "name": "stdout",
     "text": [
      "len 17880\n"
     ],
     "output_type": "stream"
    }
   ],
   "source": [
    "y = jobs_df[\"fraudulent\"]\n",
    "train = jobs_df[\"description\"]\n",
    "\n",
    "print(\"len\", len(jobs_df))"
   ],
   "metadata": {
    "collapsed": false,
    "pycharm": {
     "name": "#%%\n",
     "is_executing": false
    }
   }
  },
  {
   "cell_type": "markdown",
   "source": [
    "# K\n",
    "\n",
    "## Part 1\n",
    "**Approach:** Handling description using TF-IDF or CountVectorizer then train a **Random Forest** model"
   ],
   "metadata": {
    "collapsed": false,
    "pycharm": {
     "name": "#%%\nmd\n"
    }
   }
  },
  {
   "cell_type": "code",
   "execution_count": 23,
   "outputs": [],
   "source": [
    "porter_stemmer = PorterStemmer()\n",
    "lancaster_stemmer = LancasterStemmer()\n",
    "\n",
    "def stemming_tokenizer(str_input):\n",
    "    stemmer = porter_stemmer\n",
    "    words = re.sub(r\"[^A-Za-z0-9\\-]\", \" \", str_input).lower().split()\n",
    "    words = [stemmer.stem(word) for word in words]\n",
    "    return words"
   ],
   "metadata": {
    "collapsed": false,
    "pycharm": {
     "name": "#%%\n",
     "is_executing": false
    }
   }
  },
  {
   "cell_type": "code",
   "execution_count": 24,
   "outputs": [
    {
     "name": "stderr",
     "text": [
      "/home/teomandi/anaconda3/envs/project1/lib/python3.7/site-packages/sklearn/feature_extraction/text.py:385: UserWarning: Your stop_words may be inconsistent with your preprocessing. Tokenizing the stop words generated tokens ['abov', 'afterward', 'alon', 'alreadi', 'alway', 'ani', 'anoth', 'anyon', 'anyth', 'anywher', 'becam', 'becaus', 'becom', 'befor', 'besid', 'cri', 'describ', 'dure', 'els', 'elsewher', 'empti', 'everi', 'everyon', 'everyth', 'everywher', 'fifti', 'formerli', 'forti', 'ha', 'henc', 'hereaft', 'herebi', 'hi', 'howev', 'hundr', 'inde', 'latterli', 'mani', 'meanwhil', 'moreov', 'mostli', 'nobodi', 'noon', 'noth', 'nowher', 'onc', 'onli', 'otherwis', 'ourselv', 'perhap', 'pleas', 'seriou', 'sever', 'sinc', 'sincer', 'sixti', 'someon', 'someth', 'sometim', 'somewher', 'themselv', 'thenc', 'thereaft', 'therebi', 'therefor', 'thi', 'thu', 'togeth', 'twelv', 'twenti', 'veri', 'wa', 'whatev', 'whenc', 'whenev', 'wherea', 'whereaft', 'wherebi', 'wherev', 'whi', 'yourselv'] not in stop_words.\n",
      "  'stop_words.' % sorted(inconsistent))\n"
     ],
     "output_type": "stream"
    },
    {
     "name": "stdout",
     "text": [
      "Vectorization took:  47.452059507369995\n"
     ],
     "output_type": "stream"
    }
   ],
   "source": [
    "starting_tm = time.time()\n",
    "vectorizer = TfidfVectorizer(stop_words='english', tokenizer=stemming_tokenizer)\n",
    "\n",
    "vtrain = vectorizer.fit_transform(train)\n",
    "print(\"Vectorization took: \", str(time.time()-starting_tm))"
   ],
   "metadata": {
    "collapsed": false,
    "pycharm": {
     "name": "#%%\n",
     "is_executing": false
    }
   }
  },
  {
   "cell_type": "code",
   "source": [
    "rf = RandomForestClassifier(n_estimators=660, n_jobs=4)\n",
    "evaluation(rf, \"Random Forest\", vtrain, y)"
   ],
   "metadata": {
    "collapsed": false,
    "pycharm": {
     "name": "#%%\n",
     "is_executing": false
    }
   },
   "execution_count": 25,
   "outputs": [
    {
     "name": "stdout",
     "text": [
      "Classifier:  Random Forest\n",
      "Accuracy:  0.9801728520589731\n",
      "Precision:  0.9939024390243902\n",
      "Recall:  0.5842293906810035\n",
      "F1-Measure:  0.7358916478555305\n",
      "Execution time: 0.9834010601043701\n"
     ],
     "output_type": "stream"
    }
   ]
  },
  {
   "cell_type": "markdown",
   "source": [
    "---\n",
    "## Part 2\n",
    "# Features Engineering\n",
    "\n",
    "**Approach:** Feature extraction. Getting some feature from the **description** and using it with the rest of the columns."
   ],
   "metadata": {
    "collapsed": false,
    "pycharm": {
     "name": "#%% md\n"
    }
   }
  },
  {
   "cell_type": "code",
   "execution_count": 3,
   "outputs": [],
   "source": [
    "jobs_df = pd.read_csv(\"fake_job_postings.csv\")\n",
    "jobs_df = jobs_df.fillna('')\n",
    "\n",
    "y = jobs_df[\"fraudulent\"]"
   ],
   "metadata": {
    "collapsed": false,
    "pycharm": {
     "name": "#%%\n",
     "is_executing": false
    }
   }
  },
  {
   "cell_type": "markdown",
   "source": [
    "### Features Extraction for Description, Company Profile, Benefits, Requirements and Title\n",
    "- Length\n",
    "- Character length without spaces\n",
    "- Number of words"
   ],
   "metadata": {
    "collapsed": false,
    "pycharm": {
     "name": "#%% md\n"
    }
   }
  },
  {
   "cell_type": "code",
   "execution_count": 4,
   "outputs": [],
   "source": [
    "# Description\n",
    "jobs_df['len_desc'] = jobs_df[\"description\"].apply(lambda x: len(str(x)))\n",
    "jobs_df['len_char_desc'] = jobs_df[\"description\"].apply(lambda x: len(''.join(set(str(x).replace(' ', '')))))\n",
    "jobs_df['len_word_desc'] = jobs_df[\"description\"].apply(lambda x: len(str(x).split()))\n",
    "\n",
    "feats_desc = ['len_desc', 'len_char_desc', 'len_word_desc']"
   ],
   "metadata": {
    "collapsed": false,
    "pycharm": {
     "name": "#%%\n",
     "is_executing": false
    }
   }
  },
  {
   "cell_type": "code",
   "execution_count": 5,
   "outputs": [],
   "source": [
    "# Title\n",
    "jobs_df['len_title'] = jobs_df[\"title\"].apply(lambda x: len(str(x)))\n",
    "jobs_df['len_char_title'] = jobs_df[\"title\"].apply(lambda x: len(''.join(set(str(x).replace(' ', '')))))\n",
    "jobs_df['len_word_title'] = jobs_df[\"title\"].apply(lambda x: len(str(x).split()))\n",
    "\n",
    "feats_title = ['len_title', 'len_char_title', 'len_word_title']"
   ],
   "metadata": {
    "collapsed": false,
    "pycharm": {
     "name": "#%%\n",
     "is_executing": false
    }
   }
  },
  {
   "cell_type": "code",
   "execution_count": 6,
   "outputs": [],
   "source": [
    "# Company Profile\n",
    "jobs_df['len_cp'] = jobs_df[\"company_profile\"].apply(lambda x: len(str(x)))\n",
    "jobs_df['len_char_cp'] = jobs_df[\"company_profile\"].apply(lambda x: len(''.join(set(str(x).replace(' ', '')))))\n",
    "jobs_df['len_word_cp'] = jobs_df[\"company_profile\"].apply(lambda x: len(str(x).split()))\n",
    "\n",
    "feats_cp = ['len_cp', 'len_char_cp', 'len_word_cp']"
   ],
   "metadata": {
    "collapsed": false,
    "pycharm": {
     "name": "#%%\n",
     "is_executing": false
    }
   }
  },
  {
   "cell_type": "code",
   "execution_count": 7,
   "outputs": [],
   "source": [
    "# Benefits\n",
    "jobs_df['len_ben'] = jobs_df[\"benefits\"].apply(lambda x: len(str(x)))\n",
    "jobs_df['len_char_ben'] = jobs_df[\"benefits\"].apply(lambda x: len(''.join(set(str(x).replace(' ', '')))))\n",
    "jobs_df['len_word_ben'] = jobs_df[\"benefits\"].apply(lambda x: len(str(x).split()))\n",
    "\n",
    "feats_ben = ['len_ben', 'len_char_ben', 'len_word_ben']"
   ],
   "metadata": {
    "collapsed": false,
    "pycharm": {
     "name": "#%%\n",
     "is_executing": false
    }
   }
  },
  {
   "cell_type": "code",
   "execution_count": 8,
   "outputs": [],
   "source": [
    "# Requirements\n",
    "jobs_df['len_req'] = jobs_df[\"requirements\"].apply(lambda x: len(str(x)))\n",
    "jobs_df['len_char_req'] = jobs_df[\"requirements\"].apply(lambda x: len(''.join(set(str(x).replace(' ', '')))))\n",
    "jobs_df['len_word_req'] = jobs_df[\"requirements\"].apply(lambda x: len(str(x).split()))\n",
    "\n",
    "feats_req = ['len_req', 'len_char_req', 'len_word_req']"
   ],
   "metadata": {
    "collapsed": false,
    "pycharm": {
     "name": "#%%\n",
     "is_executing": false
    }
   }
  },
  {
   "cell_type": "markdown",
   "source": [
    "### Binary features will be as they are.\n",
    "Those are: telecommuting, has_company_logo, has_questions"
   ],
   "metadata": {
    "collapsed": false,
    "pycharm": {
     "name": "#%% md\n",
     "is_executing": false
    }
   }
  },
  {
   "cell_type": "code",
   "execution_count": 9,
   "outputs": [],
   "source": [
    "feats_bin = ['telecommuting', 'has_company_logo', 'has_questions']"
   ],
   "metadata": {
    "collapsed": false,
    "pycharm": {
     "name": "#%%\n",
     "is_executing": false
    }
   }
  },
  {
   "cell_type": "markdown",
   "source": [
    "### Feature extraction for Salary Range\n",
    "- Minimum\n",
    "- Maximum\n",
    "- Difference"
   ],
   "metadata": {
    "collapsed": false,
    "pycharm": {
     "name": "#%% md\n",
     "is_executing": false
    }
   }
  },
  {
   "cell_type": "code",
   "execution_count": 10,
   "outputs": [],
   "source": [
    "def get_max(r):\n",
    "    if r!= \"\":\n",
    "        if \"-\" in r:\n",
    "            if r.split(\"-\")[1].isnumeric():\n",
    "                return int(r.split(\"-\")[1])\n",
    "            else:\n",
    "                return -1\n",
    "        else:\n",
    "            return int(r)\n",
    "    else:\n",
    "        return -1\n",
    "    \n",
    "def get_diff(r):\n",
    "    if r!= \"\":\n",
    "        if \"-\" in r:\n",
    "            if r.split(\"-\")[0].isnumeric() and r.split(\"-\")[1].isnumeric():\n",
    "                return int(r.split(\"-\")[1]) - int(r.split(\"-\")[0])\n",
    "            else:\n",
    "                return -1\n",
    "        else:\n",
    "            return int(r)\n",
    "    else:\n",
    "        return -1\n",
    "    \n",
    "jobs_df['min_salary'] = jobs_df[\"salary_range\"].apply(lambda r: int(r.split(\"-\")[0]) if r.split(\"-\")[0].isnumeric() else -1 if \"-\" in r else r if r != '' else -1)\n",
    "jobs_df['max_salary'] = jobs_df[\"salary_range\"].apply(get_max)\n",
    "jobs_df['diff_salary'] = jobs_df[\"salary_range\"].apply(get_diff)\n",
    "\n",
    "feats_salary = ['min_salary', 'max_salary', 'diff_salary']"
   ],
   "metadata": {
    "collapsed": false,
    "pycharm": {
     "name": "#%%\n",
     "is_executing": false
    }
   }
  },
  {
   "cell_type": "markdown",
   "source": [
    "### Columns with simple text(few words) that are repeated get as feature an id. Same texts will get the same id\n",
    "Simple class used: Dictionary\n",
    "\n",
    "Those are: location, department, employment_type, required_experience, required_education, industry, function"
   ],
   "metadata": {
    "collapsed": false,
    "pycharm": {
     "name": "#%% md\n",
     "is_executing": false
    }
   }
  },
  {
   "cell_type": "code",
   "execution_count": 12,
   "outputs": [],
   "source": [
    "class Dictionary:    \n",
    "    def __init__(self):\n",
    "        self.dic = {}\n",
    "        self.id = 0\n",
    "    \n",
    "    def add_to_dict(self, text):\n",
    "        text = re.sub(r\"[^A-Za-z0-9\\-]\", \" \", text).lower() \n",
    "        if text in self.dic:\n",
    "            return self.dic[text]\n",
    "        else:\n",
    "            self.dic[text] = int(self.id)\n",
    "            self.id += 1\n",
    "            return self.dic[text]\n",
    "    "
   ],
   "metadata": {
    "collapsed": false,
    "pycharm": {
     "name": "#%%\n",
     "is_executing": false
    }
   }
  },
  {
   "cell_type": "code",
   "execution_count": 13,
   "outputs": [],
   "source": [
    "location_dict = Dictionary()\n",
    "jobs_df['loc_ids'] = jobs_df['location'].apply(location_dict.add_to_dict)\n",
    "\n",
    "department_dict = Dictionary()\n",
    "jobs_df['dep_ids'] = jobs_df['department'].apply(department_dict.add_to_dict)\n",
    "\n",
    "employment_type_dict = Dictionary()\n",
    "jobs_df['emptype_ids'] = jobs_df['employment_type'].apply(employment_type_dict.add_to_dict)\n",
    "\n",
    "required_experience_dict = Dictionary()\n",
    "jobs_df['reqexp_ids'] = jobs_df['required_experience'].apply(required_experience_dict.add_to_dict)\n",
    "\n",
    "required_education_dict = Dictionary()\n",
    "jobs_df['reqedu_ids'] = jobs_df['required_education'].apply(required_education_dict.add_to_dict)\n",
    "\n",
    "industry_dict = Dictionary()\n",
    "jobs_df['ind_ids'] = jobs_df['industry'].apply(industry_dict.add_to_dict)\n",
    "\n",
    "function_dict = Dictionary()\n",
    "jobs_df['func_ids'] = jobs_df['function'].apply(function_dict.add_to_dict)\n",
    "\n",
    "reptext_feat = ['loc_ids', 'dep_ids', 'emptype_ids', 'reqexp_ids', 'reqedu_ids', 'ind_ids', 'func_ids']"
   ],
   "metadata": {
    "collapsed": false,
    "pycharm": {
     "name": "#%%\n",
     "is_executing": false
    }
   }
  },
  {
   "cell_type": "code",
   "execution_count": 19,
   "outputs": [
    {
     "data": {
      "text/plain": "   len_desc  len_char_desc  len_word_desc  len_title  len_char_title  \\\n0       905             46            124         16              10   \n1      2077             71            315         41              18   \n2       355             31             50         39              18   \n3      2600             58            346         33              19   \n4      1520             59            168         19              12   \n\n   len_word_title  len_cp  len_char_cp  len_word_cp  len_ben  ...  min_salary  \\\n0               2     885           46          141        0  ...          -1   \n1               6    1286           58          153     1292  ...          -1   \n2               4     879           44          141        0  ...          -1   \n3               5     614           43           85      782  ...          -1   \n4               3    1628           68          207       21  ...          -1   \n\n   max_salary  diff_salary  loc_ids  dep_ids  emptype_ids  reqexp_ids  \\\n0          -1           -1        0        0            0           0   \n1          -1           -1        1        1            1           1   \n2          -1           -1        2        2            2           2   \n3          -1           -1        3        3            1           3   \n4          -1           -1        4        2            1           3   \n\n   reqedu_ids  ind_ids  func_ids  \n0           0        0         0  \n1           0        1         1  \n2           0        0         2  \n3           1        2         3  \n4           1        3         4  \n\n[5 rows x 28 columns]",
      "text/html": "<div>\n<style scoped>\n    .dataframe tbody tr th:only-of-type {\n        vertical-align: middle;\n    }\n\n    .dataframe tbody tr th {\n        vertical-align: top;\n    }\n\n    .dataframe thead th {\n        text-align: right;\n    }\n</style>\n<table border=\"1\" class=\"dataframe\">\n  <thead>\n    <tr style=\"text-align: right;\">\n      <th></th>\n      <th>len_desc</th>\n      <th>len_char_desc</th>\n      <th>len_word_desc</th>\n      <th>len_title</th>\n      <th>len_char_title</th>\n      <th>len_word_title</th>\n      <th>len_cp</th>\n      <th>len_char_cp</th>\n      <th>len_word_cp</th>\n      <th>len_ben</th>\n      <th>...</th>\n      <th>min_salary</th>\n      <th>max_salary</th>\n      <th>diff_salary</th>\n      <th>loc_ids</th>\n      <th>dep_ids</th>\n      <th>emptype_ids</th>\n      <th>reqexp_ids</th>\n      <th>reqedu_ids</th>\n      <th>ind_ids</th>\n      <th>func_ids</th>\n    </tr>\n  </thead>\n  <tbody>\n    <tr>\n      <th>0</th>\n      <td>905</td>\n      <td>46</td>\n      <td>124</td>\n      <td>16</td>\n      <td>10</td>\n      <td>2</td>\n      <td>885</td>\n      <td>46</td>\n      <td>141</td>\n      <td>0</td>\n      <td>...</td>\n      <td>-1</td>\n      <td>-1</td>\n      <td>-1</td>\n      <td>0</td>\n      <td>0</td>\n      <td>0</td>\n      <td>0</td>\n      <td>0</td>\n      <td>0</td>\n      <td>0</td>\n    </tr>\n    <tr>\n      <th>1</th>\n      <td>2077</td>\n      <td>71</td>\n      <td>315</td>\n      <td>41</td>\n      <td>18</td>\n      <td>6</td>\n      <td>1286</td>\n      <td>58</td>\n      <td>153</td>\n      <td>1292</td>\n      <td>...</td>\n      <td>-1</td>\n      <td>-1</td>\n      <td>-1</td>\n      <td>1</td>\n      <td>1</td>\n      <td>1</td>\n      <td>1</td>\n      <td>0</td>\n      <td>1</td>\n      <td>1</td>\n    </tr>\n    <tr>\n      <th>2</th>\n      <td>355</td>\n      <td>31</td>\n      <td>50</td>\n      <td>39</td>\n      <td>18</td>\n      <td>4</td>\n      <td>879</td>\n      <td>44</td>\n      <td>141</td>\n      <td>0</td>\n      <td>...</td>\n      <td>-1</td>\n      <td>-1</td>\n      <td>-1</td>\n      <td>2</td>\n      <td>2</td>\n      <td>2</td>\n      <td>2</td>\n      <td>0</td>\n      <td>0</td>\n      <td>2</td>\n    </tr>\n    <tr>\n      <th>3</th>\n      <td>2600</td>\n      <td>58</td>\n      <td>346</td>\n      <td>33</td>\n      <td>19</td>\n      <td>5</td>\n      <td>614</td>\n      <td>43</td>\n      <td>85</td>\n      <td>782</td>\n      <td>...</td>\n      <td>-1</td>\n      <td>-1</td>\n      <td>-1</td>\n      <td>3</td>\n      <td>3</td>\n      <td>1</td>\n      <td>3</td>\n      <td>1</td>\n      <td>2</td>\n      <td>3</td>\n    </tr>\n    <tr>\n      <th>4</th>\n      <td>1520</td>\n      <td>59</td>\n      <td>168</td>\n      <td>19</td>\n      <td>12</td>\n      <td>3</td>\n      <td>1628</td>\n      <td>68</td>\n      <td>207</td>\n      <td>21</td>\n      <td>...</td>\n      <td>-1</td>\n      <td>-1</td>\n      <td>-1</td>\n      <td>4</td>\n      <td>2</td>\n      <td>1</td>\n      <td>3</td>\n      <td>1</td>\n      <td>3</td>\n      <td>4</td>\n    </tr>\n  </tbody>\n</table>\n<p>5 rows × 28 columns</p>\n</div>"
     },
     "metadata": {},
     "output_type": "execute_result",
     "execution_count": 19
    }
   ],
   "source": [
    "feat_train = jobs_df[\n",
    "    feats_desc + feats_title + feats_cp +\n",
    "    feats_ben + feats_req + feats_bin +\n",
    "    feats_salary + reptext_feat\n",
    "]\n",
    "\n",
    "train.head()"
   ],
   "metadata": {
    "collapsed": false,
    "pycharm": {
     "name": "#%%\n",
     "is_executing": false
    }
   }
  },
  {
   "cell_type": "code",
   "execution_count": 21,
   "outputs": [
    {
     "name": "stdout",
     "text": [
      "Classifier:  Random Forest\n",
      "Accuracy:  0.9771225216065074\n",
      "Precision:  0.9551282051282052\n",
      "Recall:  0.5379061371841155\n",
      "F1-Measure:  0.6882217090069285\n",
      "Execution time: 0.8378407955169678\n"
     ],
     "output_type": "stream"
    }
   ],
   "source": [
    "rf = RandomForestClassifier(n_estimators=660, n_jobs=4)\n",
    "evaluation(rf, \"Random Forest\", feat_train, y)"
   ],
   "metadata": {
    "collapsed": false,
    "pycharm": {
     "name": "#%%\n",
     "is_executing": false
    }
   }
  },
  {
   "cell_type": "code",
   "execution_count": null,
   "outputs": [],
   "source": [
    "\n"
   ],
   "metadata": {
    "collapsed": false,
    "pycharm": {
     "name": "#%%\n"
    }
   }
  }
 ],
 "metadata": {
  "kernelspec": {
   "display_name": "Python 3",
   "language": "python",
   "name": "python3"
  },
  "language_info": {
   "codemirror_mode": {
    "name": "ipython",
    "version": 2
   },
   "file_extension": ".py",
   "mimetype": "text/x-python",
   "name": "python",
   "nbconvert_exporter": "python",
   "pygments_lexer": "ipython2",
   "version": "2.7.6"
  },
  "pycharm": {
   "stem_cell": {
    "cell_type": "raw",
    "source": [],
    "metadata": {
     "collapsed": false
    }
   }
  }
 },
 "nbformat": 4,
 "nbformat_minor": 0
}