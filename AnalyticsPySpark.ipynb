{
 "cells": [
  {
   "cell_type": "code",
   "execution_count": 6,
   "metadata": {
    "collapsed": true,
    "pycharm": {
     "is_executing": false,
     "name": "#%%\n"
    }
   },
   "outputs": [],
   "source": [
    "import numpy as np\n",
    "from nltk.util import ngrams\n",
    "from pyspark.sql import SparkSession\n",
    "from pyspark.sql.functions import col"
   ]
  },
  {
   "cell_type": "code",
   "execution_count": 7,
   "outputs": [],
   "source": [
    "spark = SparkSession.builder\\\n",
    "    .master(\"local\")\\\n",
    "    .appName(\"BD-Project-1\")\\\n",
    "    .config(\"spark.some.config.option\", \"some-value\")\\\n",
    "    .getOrCreate()"
   ],
   "metadata": {
    "collapsed": false,
    "pycharm": {
     "name": "#%%\n",
     "is_executing": false
    }
   }
  },
  {
   "cell_type": "markdown",
   "source": [
    "## Loading the data"
   ],
   "metadata": {
    "collapsed": false
   }
  },
  {
   "cell_type": "code",
   "execution_count": 8,
   "outputs": [],
   "source": [
    "csv_path = \"fake_job_postings.csv\" \n",
    "df_jobs = spark.read.csv(csv_path, escape=\"\\\"\", header=True, inferSchema=True)"
   ],
   "metadata": {
    "collapsed": false,
    "pycharm": {
     "name": "#%%\n",
     "is_executing": false
    }
   }
  },
  {
   "cell_type": "code",
   "execution_count": 9,
   "outputs": [
    {
     "name": "stdout",
     "text": [
      "rows :  17880\n",
      "Columns:  ['job_id', 'title', 'location', 'department', 'salary_range', 'company_profile', 'description', 'requirements', 'benefits', 'telecommuting', 'has_company_logo', 'has_questions', 'employment_type', 'required_experience', 'required_education', 'industry', 'function', 'fraudulent']\n",
      "+------+--------------------+--------------------+----------+------------+--------------------+--------------------+--------------------+--------------------+-------------+----------------+-------------+---------------+-------------------+--------------------+--------------------+--------------------+----------+\n",
      "|job_id|               title|            location|department|salary_range|     company_profile|         description|        requirements|            benefits|telecommuting|has_company_logo|has_questions|employment_type|required_experience|  required_education|            industry|            function|fraudulent|\n",
      "+------+--------------------+--------------------+----------+------------+--------------------+--------------------+--------------------+--------------------+-------------+----------------+-------------+---------------+-------------------+--------------------+--------------------+--------------------+----------+\n",
      "|     1|    Marketing Intern|    US, NY, New York| Marketing|        null|We're Food52, and...|Food52, a fast-gr...|Experience with c...|                null|            0|               1|            0|          Other|         Internship|                null|                null|           Marketing|         0|\n",
      "|     2|Customer Service ...|      NZ, , Auckland|   Success|        null|90 Seconds, the w...|Organised - Focus...|What we expect fr...|What you will get...|            0|               1|            0|      Full-time|     Not Applicable|                null|Marketing and Adv...|    Customer Service|         0|\n",
      "|     3|Commissioning Mac...|       US, IA, Wever|      null|        null|Valor Services pr...|Our client, locat...|Implement pre-com...|                null|            0|               1|            0|           null|               null|                null|                null|                null|         0|\n",
      "|     4|Account Executive...|  US, DC, Washington|     Sales|        null|Our passion for i...|THE COMPANY: ESRI...|EDUCATION: Bachel...|Our culture is an...|            0|               1|            0|      Full-time|   Mid-Senior level|   Bachelor's Degree|   Computer Software|               Sales|         0|\n",
      "|     5| Bill Review Manager|  US, FL, Fort Worth|      null|        null|SpotSource Soluti...|JOB TITLE: Itemiz...|QUALIFICATIONS:RN...|Full Benefits Off...|            0|               1|            1|      Full-time|   Mid-Senior level|   Bachelor's Degree|Hospital & Health...|Health Care Provider|         0|\n",
      "|     6|    Accounting Clerk|            US, MD, |      null|        null|                null|Job OverviewApex ...|                null|                null|            0|               0|            0|           null|               null|                null|                null|                null|         0|\n",
      "|     7|Head of Content (...|      DE, BE, Berlin|ANDROIDPIT| 20000-28000|Founded in 2009, ...|Your Responsibili...|Your Know-How:   ...|Your Benefits: Be...|            0|               1|            1|      Full-time|   Mid-Senior level|     Master's Degree|        Online Media|          Management|         0|\n",
      "|     8|Lead Guest Servic...|US, CA, San Franc...|      null|        null|Airenvy’s mission...|Who is Airenvy?He...|Experience with C...|Competitive Pay. ...|            0|               1|            1|           null|               null|                null|                null|                null|         0|\n",
      "|     9|          HP BSM SME|   US, FL, Pensacola|      null|        null|Solutions3 is a w...|Implementation/Co...|MUST BE A US CITI...|                null|            0|               1|            1|      Full-time|          Associate|                null|Information Techn...|                null|         0|\n",
      "|    10|Customer Service ...|     US, AZ, Phoenix|      null|        null|Novitex Enterpris...|The Customer Serv...|Minimum Requireme...|                null|            0|               1|            0|      Part-time|        Entry level|High School or eq...|  Financial Services|    Customer Service|         0|\n",
      "+------+--------------------+--------------------+----------+------------+--------------------+--------------------+--------------------+--------------------+-------------+----------------+-------------+---------------+-------------------+--------------------+--------------------+--------------------+----------+\n",
      "only showing top 10 rows\n",
      "\n"
     ],
     "output_type": "stream"
    }
   ],
   "source": [
    "print(\"rows : \", df_jobs.count())\n",
    "columns = df_jobs.columns\n",
    "print(\"Columns: \",columns)\n",
    "df_jobs.show(10)"
   ],
   "metadata": {
    "collapsed": false,
    "pycharm": {
     "name": "#%%\n",
     "is_executing": false
    }
   }
  },
  {
   "cell_type": "markdown",
   "source": [
    "## Spliting the dataset to Real/Fake"
   ],
   "metadata": {
    "collapsed": false,
    "pycharm": {
     "name": "#%% md\n",
     "is_executing": false
    }
   }
  },
  {
   "cell_type": "code",
   "execution_count": 10,
   "outputs": [
    {
     "name": "stdout",
     "text": [
      "Real jobs:  17014\n",
      "Fake jobs:  866\n"
     ],
     "output_type": "stream"
    }
   ],
   "source": [
    "real_jobs = df_jobs.filter(col(\"fraudulent\") == 0)\n",
    "fake_jobs = df_jobs.filter(col(\"fraudulent\") == 1)\n",
    "\n",
    "print(\"Real jobs: \", real_jobs.count())\n",
    "print(\"Fake jobs: \", fake_jobs.count())"
   ],
   "metadata": {
    "collapsed": false,
    "pycharm": {
     "name": "#%%\n",
     "is_executing": false
    }
   }
  },
  {
   "cell_type": "markdown",
   "source": [
    "### F"
   ],
   "metadata": {
    "collapsed": false,
    "pycharm": {
     "name": "#%% md\n"
    }
   }
  },
  {
   "cell_type": "code",
   "execution_count": 11,
   "outputs": [],
   "source": [
    "fake_ranges = fake_jobs.select(\"salary_range\").filter(col('salary_range').isNotNull())\n",
    "max_ranges = fake_ranges.rdd.map(lambda r: int(r.salary_range.split(\"-\")[1]))\n",
    "fake_mean = max_ranges.mean()\n",
    "fake_stdev = max_ranges.stdev()"
   ],
   "metadata": {
    "collapsed": false,
    "pycharm": {
     "name": "#%%\n",
     "is_executing": false
    }
   }
  },
  {
   "cell_type": "code",
   "execution_count": 12,
   "outputs": [
    {
     "name": "stdout",
     "text": [
      "Fake Max: mean =  159218.71300448422  stdev= 633739.2454231088\n"
     ],
     "output_type": "stream"
    }
   ],
   "source": [
    "print(\"Fake Max: mean = \", fake_mean, \" stdev=\", fake_stdev)"
   ],
   "metadata": {
    "collapsed": false,
    "pycharm": {
     "name": "#%%\n",
     "is_executing": false
    }
   }
  },
  {
   "cell_type": "markdown",
   "source": [
    "### G"
   ],
   "metadata": {
    "collapsed": false,
    "pycharm": {
     "name": "#%% md\n"
    }
   }
  },
  {
   "cell_type": "code",
   "execution_count": 13,
   "outputs": [],
   "source": [
    "real_range = real_jobs.select(\"salary_range\").filter(col('salary_range').isNotNull())\n",
    "min_ranges = real_range.rdd.map(lambda r: r.salary_range.split(\"-\")[0])\\\n",
    "    .filter(lambda r: r.isnumeric()).map(lambda r: int(r))\n",
    "median = np.median(min_ranges.collect())"
   ],
   "metadata": {
    "collapsed": false,
    "pycharm": {
     "name": "#%%\n",
     "is_executing": false
    }
   }
  },
  {
   "cell_type": "code",
   "execution_count": 14,
   "outputs": [
    {
     "name": "stdout",
     "text": [
      "Real median:  36000.0\n"
     ],
     "output_type": "stream"
    }
   ],
   "source": [
    "print(\"Real median: \", median)"
   ],
   "metadata": {
    "collapsed": false,
    "pycharm": {
     "name": "#%%\n",
     "is_executing": false
    }
   }
  },
  {
   "cell_type": "markdown",
   "source": [
    "# Most common bi/tri_grams in Real Jobs"
   ],
   "metadata": {
    "collapsed": false,
    "pycharm": {
     "name": "#%% md\n"
    }
   }
  },
  {
   "cell_type": "code",
   "execution_count": 15,
   "outputs": [],
   "source": [
    "bi_gram = real_jobs.select(col(\"description\"))\\\n",
    "    .filter(col(\"description\").isNotNull())\\\n",
    "    .rdd\\\n",
    "    .flatMap(lambda line: [bgrams[0] + \" \" + bgrams[1] for bgrams in ngrams(line.description.split(), 2)])\\\n",
    "    .map(lambda x: (x, 1))\\\n",
    "    .reduceByKey(lambda x,y: x+y).sortBy(lambda x: x[1], False)\n",
    "    \n",
    "# "
   ],
   "metadata": {
    "collapsed": false,
    "pycharm": {
     "name": "#%%\n",
     "is_executing": false
    }
   }
  },
  {
   "cell_type": "code",
   "execution_count": 16,
   "outputs": [
    {
     "data": {
      "text/plain": "[('of the', 10331),\n ('in the', 8958),\n ('will be', 8776),\n ('looking for', 6485),\n ('in a', 5411),\n ('is a', 5349),\n ('to the', 5104),\n ('for the', 4999),\n ('with the', 4943),\n ('for a', 4833)]"
     },
     "metadata": {},
     "output_type": "execute_result",
     "execution_count": 16
    }
   ],
   "source": [
    "bi_gram.take(10)"
   ],
   "metadata": {
    "collapsed": false,
    "pycharm": {
     "name": "#%%\n",
     "is_executing": false
    }
   }
  },
  {
   "cell_type": "code",
   "execution_count": 17,
   "outputs": [],
   "source": [
    "tri_gram = real_jobs.select(col(\"description\"))\\\n",
    "    .filter(col(\"description\").isNotNull())\\\n",
    "    .rdd\\\n",
    "    .flatMap(lambda line: [trigram[0] + \" \" + trigram[1] + \" \" + trigram[2] for trigram in ngrams(line.description.split(), 3)])\\\n",
    "    .map(lambda x: (x, 1))\\\n",
    "    .reduceByKey(lambda x,y: x+y).sortBy(lambda x: x[1], False)"
   ],
   "metadata": {
    "collapsed": false,
    "pycharm": {
     "name": "#%%\n",
     "is_executing": false
    }
   }
  },
  {
   "cell_type": "code",
   "execution_count": 18,
   "outputs": [
    {
     "data": {
      "text/plain": "[('are looking for', 3014),\n ('looking for a', 2661),\n ('as well as', 2255),\n ('to join our', 1652),\n ('be responsible for', 1617),\n ('We are looking', 1517),\n ('you will be', 1453),\n ('be able to', 1432),\n ('will be responsible', 1429),\n ('is looking for', 1248)]"
     },
     "metadata": {},
     "output_type": "execute_result",
     "execution_count": 18
    }
   ],
   "source": [
    "tri_gram.take(10)"
   ],
   "metadata": {
    "collapsed": false,
    "pycharm": {
     "name": "#%%\n",
     "is_executing": false
    }
   }
  },
  {
   "cell_type": "markdown",
   "source": [
    "# Most common bi/tri_grams in Fake Jobs"
   ],
   "metadata": {
    "collapsed": false
   }
  },
  {
   "cell_type": "code",
   "execution_count": 19,
   "outputs": [],
   "source": [
    "bi_gram = fake_jobs.select(col(\"description\"))\\\n",
    "    .filter(col(\"description\").isNotNull())\\\n",
    "    .rdd\\\n",
    "    .flatMap(lambda line: [bgrams[0] + \" \" + bgrams[1] for bgrams in ngrams(line.description.split(), 2)])\\\n",
    "    .map(lambda x: (x, 1))\\\n",
    "    .reduceByKey(lambda x,y: x+y).sortBy(lambda x: x[1], False)\n",
    "    \n",
    "# "
   ],
   "metadata": {
    "collapsed": false,
    "pycharm": {
     "name": "#%%\n",
     "is_executing": false
    }
   }
  },
  {
   "cell_type": "code",
   "execution_count": 20,
   "outputs": [
    {
     "data": {
      "text/plain": "[('of the', 489),\n ('in the', 406),\n ('looking for', 311),\n ('to the', 308),\n ('to work', 256),\n ('We are', 244),\n ('in a', 231),\n ('are looking', 229),\n ('with the', 228),\n ('is a', 222)]"
     },
     "metadata": {},
     "output_type": "execute_result",
     "execution_count": 20
    }
   ],
   "source": [
    "bi_gram.take(10)"
   ],
   "metadata": {
    "collapsed": false,
    "pycharm": {
     "name": "#%%\n",
     "is_executing": false
    }
   }
  },
  {
   "cell_type": "code",
   "execution_count": 21,
   "outputs": [],
   "source": [
    "tri_gram = fake_jobs.select(col(\"description\"))\\\n",
    "    .filter(col(\"description\").isNotNull())\\\n",
    "    .rdd\\\n",
    "    .flatMap(lambda line: [trigram[0] + \" \" + trigram[1] + \" \" + trigram[2] for trigram in ngrams(line.description.split(), 3)])\\\n",
    "    .map(lambda x: (x, 1))\\\n",
    "    .reduceByKey(lambda x,y: x+y).sortBy(lambda x: x[1], False)"
   ],
   "metadata": {
    "collapsed": false,
    "pycharm": {
     "name": "#%%\n",
     "is_executing": false
    }
   }
  },
  {
   "cell_type": "code",
   "execution_count": 22,
   "outputs": [
    {
     "data": {
      "text/plain": "[('are looking for', 182),\n ('oil and gas', 134),\n ('looking for a', 102),\n ('- For the', 84),\n ('be responsible for', 81),\n ('We are looking', 78),\n ('Solutions is a', 71),\n ('as well as', 71),\n ('be able to', 68),\n ('6* Ultra Luxury', 63)]"
     },
     "metadata": {},
     "output_type": "execute_result",
     "execution_count": 22
    }
   ],
   "source": [
    "tri_gram.take(10)"
   ],
   "metadata": {
    "collapsed": false,
    "pycharm": {
     "name": "#%%\n",
     "is_executing": false
    }
   }
  },
  {
   "cell_type": "code",
   "execution_count": null,
   "outputs": [],
   "source": [
    "\n"
   ],
   "metadata": {
    "collapsed": false,
    "pycharm": {
     "name": "#%%\n"
    }
   }
  }
 ],
 "metadata": {
  "kernelspec": {
   "name": "pycharm-b5be3f6e",
   "language": "python",
   "display_name": "PyCharm (project1)"
  },
  "language_info": {
   "codemirror_mode": {
    "name": "ipython",
    "version": 2
   },
   "file_extension": ".py",
   "mimetype": "text/x-python",
   "name": "python",
   "nbconvert_exporter": "python",
   "pygments_lexer": "ipython2",
   "version": "2.7.6"
  },
  "pycharm": {
   "stem_cell": {
    "cell_type": "raw",
    "source": [],
    "metadata": {
     "collapsed": false
    }
   }
  }
 },
 "nbformat": 4,
 "nbformat_minor": 0
}