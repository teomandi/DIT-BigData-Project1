{
 "cells": [
  {
   "cell_type": "code",
   "execution_count": 1,
   "metadata": {
    "collapsed": true,
    "pycharm": {
     "is_executing": false
    }
   },
   "outputs": [],
   "source": [
    "import numpy as np\n",
    "import pandas as pd\n",
    "import time"
   ]
  },
  {
   "cell_type": "code",
   "execution_count": 2,
   "outputs": [],
   "source": [
    "from sklearn import metrics\n",
    "from sklearn.model_selection import StratifiedKFold, train_test_split\n",
    "\n",
    "def evaluation(clf, clf_name, train, y):\n",
    "    x_train, x_test, y_train, y_test = train_test_split(train, y, test_size=.33)\n",
    "    clf.fit(x_train, y_train)\n",
    "    \n",
    "    starting_tm = time.time()\n",
    "    y_pred = clf.predict(x_test)\n",
    "    \n",
    "    print(\"Classifier: \", clf_name)\n",
    "    print(\"Accuracy: \", metrics.accuracy_score(y_test, y_pred))\n",
    "    print(\"Precision: \", metrics.precision_score(y_test, y_pred))\n",
    "    print(\"Recall: \", metrics.recall_score(y_test, y_pred))\n",
    "    print(\"F1-Measure: \", metrics.f1_score(y_test, y_pred))\n",
    "    print(\"Execution time: \" + str(time.time() - starting_tm))"
   ],
   "metadata": {
    "collapsed": false,
    "pycharm": {
     "name": "#%%\n",
     "is_executing": false
    }
   }
  },
  {
   "cell_type": "markdown",
   "source": [
    "## Reading the Data"
   ],
   "metadata": {
    "collapsed": false,
    "pycharm": {
     "name": "#%% md\n"
    }
   }
  },
  {
   "cell_type": "code",
   "execution_count": 3,
   "outputs": [
    {
     "name": "stdout",
     "text": [
      "len 17880\n"
     ],
     "output_type": "stream"
    }
   ],
   "source": [
    "jobs_df = pd.read_csv(\"fake_job_postings.csv\")\n",
    "jobs_df = jobs_df.fillna('')\n",
    "\n",
    "y = jobs_df[\"fraudulent\"]\n",
    "print(\"len\", len(jobs_df))"
   ],
   "metadata": {
    "collapsed": false,
    "pycharm": {
     "name": "#%%\n",
     "is_executing": false
    }
   }
  },
  {
   "cell_type": "markdown",
   "source": [
    "# J\n",
    "### Part 1: Gaussian Naive Bayes"
   ],
   "metadata": {
    "collapsed": false,
    "pycharm": {
     "name": "#%% md\n"
    }
   }
  },
  {
   "cell_type": "code",
   "execution_count": 4,
   "outputs": [],
   "source": [
    "train = jobs_df[\"telecommuting\"]\n",
    "train = train.values.reshape(-1, 1)"
   ],
   "metadata": {
    "collapsed": false,
    "pycharm": {
     "name": "#%%\n",
     "is_executing": false
    }
   }
  },
  {
   "cell_type": "code",
   "execution_count": 5,
   "outputs": [
    {
     "name": "stdout",
     "text": [
      "Classifier:  Gaussian Naive Bayes\n",
      "Accuracy:  0.9150991357397051\n",
      "Precision:  0.056179775280898875\n",
      "Recall:  0.056818181818181816\n",
      "F1-Measure:  0.05649717514124293\n",
      "Execution time: 0.018354177474975586\n"
     ],
     "output_type": "stream"
    }
   ],
   "source": [
    "from sklearn.naive_bayes import GaussianNB\n",
    "\n",
    "gaussNB_cls = GaussianNB()\n",
    "evaluation(gaussNB_cls, \"Gaussian Naive Bayes\", train, y)\n"
   ],
   "metadata": {
    "collapsed": false,
    "pycharm": {
     "name": "#%%\n",
     "is_executing": false
    }
   }
  },
  {
   "cell_type": "markdown",
   "source": [
    "### Part 2: "
   ],
   "metadata": {
    "collapsed": false
   }
  },
  {
   "cell_type": "code",
   "execution_count": 6,
   "outputs": [],
   "source": [
    "train2 = jobs_df[[\"telecommuting\", \"has_company_logo\", \"has_questions\"]]\n",
    "train2.head()\n",
    "train2 = train2.values.reshape(-1, 3)"
   ],
   "metadata": {
    "collapsed": false,
    "pycharm": {
     "name": "#%%\n",
     "is_executing": false
    }
   }
  },
  {
   "cell_type": "markdown",
   "source": [
    "## RandomForest"
   ],
   "metadata": {
    "collapsed": false,
    "pycharm": {
     "name": "#%% md\n"
    }
   }
  },
  {
   "cell_type": "code",
   "execution_count": 7,
   "outputs": [
    {
     "name": "stdout",
     "text": [
      "Classifier:  Random Forest\n",
      "Accuracy:  0.9542450432130147\n",
      "Precision:  0.0\n",
      "Recall:  0.0\n",
      "F1-Measure:  0.0\n",
      "Execution time: 0.7378592491149902\n"
     ],
     "output_type": "stream"
    },
    {
     "name": "stderr",
     "text": [
      "/home/teomandi/anaconda3/envs/project1/lib/python3.7/site-packages/sklearn/metrics/_classification.py:1272: UndefinedMetricWarning: Precision is ill-defined and being set to 0.0 due to no predicted samples. Use `zero_division` parameter to control this behavior.\n",
      "  _warn_prf(average, modifier, msg_start, len(result))\n"
     ],
     "output_type": "stream"
    }
   ],
   "source": [
    "from sklearn.ensemble import RandomForestClassifier\n",
    "\n",
    "rf = RandomForestClassifier(n_estimators=660, n_jobs=4)\n",
    "evaluation(rf, \"Random Forest\", train2, y)"
   ],
   "metadata": {
    "collapsed": false,
    "pycharm": {
     "name": "#%%\n",
     "is_executing": false
    }
   }
  },
  {
   "cell_type": "markdown",
   "source": [
    "## Perceptron"
   ],
   "metadata": {
    "collapsed": false
   }
  },
  {
   "cell_type": "code",
   "execution_count": 8,
   "outputs": [
    {
     "name": "stdout",
     "text": [
      "Classifier:  Perceptron\n",
      "Accuracy:  0.9525504151838672\n",
      "Precision:  0.0\n",
      "Recall:  0.0\n",
      "F1-Measure:  0.0\n",
      "Execution time: 0.07857632637023926\n"
     ],
     "output_type": "stream"
    },
    {
     "name": "stderr",
     "text": [
      "/home/teomandi/anaconda3/envs/project1/lib/python3.7/site-packages/sklearn/metrics/_classification.py:1272: UndefinedMetricWarning: Precision is ill-defined and being set to 0.0 due to no predicted samples. Use `zero_division` parameter to control this behavior.\n",
      "  _warn_prf(average, modifier, msg_start, len(result))\n"
     ],
     "output_type": "stream"
    }
   ],
   "source": [
    "from sklearn.linear_model import Perceptron\n",
    "\n",
    "perceptron = Perceptron(tol=1e-3, random_state=0)\n",
    "evaluation(perceptron, \"Perceptron\", train2, y)"
   ],
   "metadata": {
    "collapsed": false,
    "pycharm": {
     "name": "#%%\n",
     "is_executing": false
    }
   }
  },
  {
   "cell_type": "code",
   "execution_count": 14,
   "outputs": [
    {
     "name": "stdout",
     "text": [
      "Using Stohastic Gradient Descent\n",
      "# Tuning hyper-parameters for accuracy\n",
      "\n",
      "Best parameters set found on development set: \n",
      "{'loss': 'hinge', 'max_iter': 16000}\n",
      "\n",
      "Grid scores on development set:\n",
      "0.950 (+/-0.000) for {'loss': 'hinge', 'max_iter': 16000}\n",
      "0.950 (+/-0.000) for {'loss': 'modified_huber', 'max_iter': 16000}\n",
      "0.950 (+/-0.000) for {'loss': 'log', 'max_iter': 16000}\n",
      "0.950 (+/-0.000) for {'loss': 'squared_hinge', 'max_iter': 16000}\n",
      "\n",
      "Detailed classification report:\n",
      "\n",
      "The model is trained on the full development set.\n",
      "The scores are computed on the full evaluation set.\n",
      "\n",
      "              precision    recall  f1-score   support\n",
      "\n",
      "           0       0.95      1.00      0.98      8523\n",
      "           1       0.00      0.00      0.00       417\n",
      "\n",
      "    accuracy                           0.95      8940\n",
      "   macro avg       0.48      0.50      0.49      8940\n",
      "weighted avg       0.91      0.95      0.93      8940\n",
      "\n",
      "\n",
      "Execution time: 0.41741085052490234\n"
     ],
     "output_type": "stream"
    },
    {
     "name": "stderr",
     "text": [
      "/home/teomandi/anaconda3/envs/project1/lib/python3.7/site-packages/sklearn/metrics/_classification.py:1272: UndefinedMetricWarning: Precision and F-score are ill-defined and being set to 0.0 in labels with no predicted samples. Use `zero_division` parameter to control this behavior.\n",
      "  _warn_prf(average, modifier, msg_start, len(result))\n"
     ],
     "output_type": "stream"
    }
   ],
   "source": [
    "## grid search rf+sgd\n",
    "\n",
    "# starting_tm = time.time()\n",
    "# sgd_clf = SGDClassifier(n_jobs=12)\n",
    "# msg =\"Using Stohastic Gradient Descent\"\n",
    "# tuned_parameters = [{'loss':['hinge', 'modified_huber', 'log', 'squared_hinge'], 'max_iter':[16000]}]\n",
    "# scores = ['accuracy']\n",
    "# grid_evaluattion(sgd_clf, msg, train2, y, tuned_parameters, scores)\n",
    "# print(\"Execution time: \" + str(time.time() - starting_tm))\n",
    "# \n",
    "# starting_tm = time.time()\n",
    "# rf = RandomForestClassifier(n_jobs=4)\n",
    "# msg = \"Using Random Forest Classifier\"\n",
    "# tuned_parameters = [{'n_estimators': [i*10 for i in range(30, 51)]}]\n",
    "# scores = ['accuracy']\n",
    "# grid_evaluattion(rf, msg, train2, y, tuned_parameters, scores)"
   ],
   "metadata": {
    "collapsed": false,
    "pycharm": {
     "name": "#%%\n",
     "is_executing": false
    }
   }
  },
  {
   "cell_type": "markdown",
   "source": [
    "---\n",
    "\n",
    "The End"
   ],
   "metadata": {
    "collapsed": false,
    "pycharm": {
     "name": "#%% md\n",
     "is_executing": false
    }
   }
  }
 ],
 "metadata": {
  "kernelspec": {
   "display_name": "Python 3",
   "language": "python",
   "name": "python3"
  },
  "language_info": {
   "codemirror_mode": {
    "name": "ipython",
    "version": 2
   },
   "file_extension": ".py",
   "mimetype": "text/x-python",
   "name": "python",
   "nbconvert_exporter": "python",
   "pygments_lexer": "ipython2",
   "version": "2.7.6"
  },
  "pycharm": {
   "stem_cell": {
    "cell_type": "raw",
    "source": [],
    "metadata": {
     "collapsed": false
    }
   }
  }
 },
 "nbformat": 4,
 "nbformat_minor": 0
}